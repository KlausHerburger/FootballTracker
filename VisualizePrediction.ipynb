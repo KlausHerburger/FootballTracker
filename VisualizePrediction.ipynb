{
 "cells": [
  {
   "cell_type": "code",
   "execution_count": 1,
   "id": "649af7d5",
   "metadata": {},
   "outputs": [],
   "source": [
    "import cv2\n",
    "import matplotlib.pyplot as plt\n",
    "import numpy as np\n",
    "import tensorflow as tf"
   ]
  },
  {
   "cell_type": "code",
   "execution_count": 2,
   "id": "7b2f0f22",
   "metadata": {},
   "outputs": [
    {
     "name": "stdout",
     "output_type": "stream",
     "text": [
      "WARNING:tensorflow:Error in loading the saved optimizer state. As a result, your model is starting with a freshly initialized optimizer.\n"
     ]
    }
   ],
   "source": [
    "from tensorflow.keras.models import load_model\n",
    "\n",
    "# Load model\n",
    "model = load_model('Models/ClassifyLocations.h5')"
   ]
  },
  {
   "cell_type": "code",
   "execution_count": 3,
   "id": "8a289206",
   "metadata": {},
   "outputs": [],
   "source": [
    "def getPredictions(videoNr, xsplit, ysplit):\n",
    "    \"\"\" Gets predictions from the model\n",
    "    Args:\n",
    "      videoNr: Number of the video to get the predictions for \n",
    "      xsplit: Number of discrete grid splits in x direction\n",
    "      ysplit: Number of discrete gird splits in y direction\n",
    "      \n",
    "    Returns:\n",
    "      Predicted locations for all image frames in the given video\n",
    "    \"\"\"\n",
    "    \n",
    "    # Load and normalize original images\n",
    "    images = np.load('ImageFrames/Images_Video' + str(videoNr) + '_10.npy') \n",
    "    images = images/images.max() \n",
    "    \n",
    "    # Load and normalize dilated and thresholded images\n",
    "    imagesDT = np.load('ImageFrames/Images_DilatedThresholded_Video' + str(videoNr) + '_20.npy') \n",
    "    imagesDT = imagesDT/imagesDT.max() \n",
    "    \n",
    "    # Load and normalize annotations for last ten locations\n",
    "    annotations = np.load('AnnotationFiles/Annotations_LastTenLocations_Video' + str(videoNr) + '_' + str(xsplit) +'_' + str(ysplit) +'_10.npy')\n",
    "    annotations = annotations/annotations.max()\n",
    "    \n",
    "    # Get prediction from model and choose the location with highest probability\n",
    "    predictions = model.predict([images, imagesDT[..., np.newaxis], annotations])\n",
    "    predictedLocations = np.argmax(predictions, axis=-1)\n",
    "    \n",
    "    return predictedLocations"
   ]
  },
  {
   "cell_type": "code",
   "execution_count": 4,
   "id": "a6a79c42",
   "metadata": {},
   "outputs": [],
   "source": [
    "def videoToImages(videoNr, scale_percent):\n",
    "    \"\"\" Gets an array with all image frames of a given video\n",
    "    Args:\n",
    "      videoNr: Number of the video to get the images for \n",
    "      scale_percent: Scale factor to reduce the image for performance reasons\n",
    "      \n",
    "    Returns:\n",
    "      Array with all image frames\n",
    "    \"\"\"\n",
    "    \n",
    "    # Calcuate dimensions of scaled images\n",
    "    width = int(1920 * scale_percent / 100)\n",
    "    height = int(1088 * scale_percent / 100)\n",
    "    dim = (width, height)\n",
    "    \n",
    "    # load Video\n",
    "    video = cv2.VideoCapture('Data/filmrole' + str(videoNr) + '.avi')\n",
    "    if video.isOpened() == False:\n",
    "        print('Error opening the video file filmrole' + str(videoNr) + '.avi')\n",
    "        \n",
    "    # Iterate through all image frames saving the resized frame\n",
    "    success,image = video.read()\n",
    "    images = np.zeros((3000,height,width,3),dtype=np.uint8)\n",
    "    count = 0\n",
    "    while success:\n",
    "        resized = cv2.resize(image, dim, interpolation = cv2.INTER_AREA)\n",
    "        images[count] = resized\n",
    "        success,image = video.read()\n",
    "        count = count+1\n",
    "        \n",
    "    return images[0:count]"
   ]
  },
  {
   "cell_type": "code",
   "execution_count": 5,
   "id": "91fb06f0",
   "metadata": {},
   "outputs": [],
   "source": [
    "def createLabeledImages(videoNr, scale_percent, predictions):\n",
    "    \"\"\" Gets an array with all labeled image frames of a given video\n",
    "    Args:\n",
    "      videoNr: Number of the video to get the predictions for \n",
    "      scale_percent: Scale factor to reduce the image for performance reasons\n",
    "      predictions: Vector with predictions for all image frames\n",
    "    Returns:\n",
    "      Array with labeled image frames\n",
    "    \"\"\"\n",
    "\n",
    "    # Get unlabeled image array and create an empty array to save the labeled images\n",
    "    imagesVideo = videoToImages(videoNr,scale_percent)\n",
    "    labeledImages = []\n",
    "\n",
    "    # Loop through the predictions for all image frames to label them\n",
    "    for i in range(len(predictions)):\n",
    "        prediction = predictions[i]\n",
    "\n",
    "        # If a ball is predicted in the image frame, a circle with middle point in the center of the predicted grid section is drawn\n",
    "        if prediction!=0:\n",
    "            xstart = int(960/xsplit*((prediction-1)%xsplit))\n",
    "            xend = int(xstart + 960/xsplit)\n",
    "            ystart = int(544/ysplit*np.floor((prediction-1)/xsplit))\n",
    "            yend = int(ystart + 544/ysplit)\n",
    "            x = xstart+(xend-xstart)/2\n",
    "            y = ystart+(yend-ystart)/2\n",
    "            image = cv2.circle(imagesVideo[i].copy(), (int(x),int(y)), 25, [255,0,0], 2)\n",
    "            labeledImages.append(image)\n",
    "\n",
    "        # If no ball is predicted in the image frame, the unlabeled image frame is added\n",
    "        else:\n",
    "            labeledImages.append(imagesVideo[i])\n",
    "\n",
    "    return labeledImages"
   ]
  },
  {
   "cell_type": "code",
   "execution_count": 6,
   "id": "dc6a0a85",
   "metadata": {},
   "outputs": [
    {
     "name": "stdout",
     "output_type": "stream",
     "text": [
      "Predicted Video 6 created\n"
     ]
    }
   ],
   "source": [
    "videoNr = 6\n",
    "filename = 'PredictedVideos/Video' + str(videoNr) + '_Predicted_45_25.avi'\n",
    "dimension = (960,544) #dimension of video that is to be created\n",
    "\n",
    "xsplit = 45\n",
    "ysplit = 25\n",
    "scale_percent = 50\n",
    "\n",
    "# Get predictions and labeled images for a given video\n",
    "predictions = getPredictions(videoNr,xsplit,ysplit)\n",
    "labeledImages = createLabeledImages(videoNr, scale_percent, predictions)\n",
    "\n",
    "# Start video writer and write all labeled image frames\n",
    "out = cv2.VideoWriter(filename,cv2.VideoWriter_fourcc(*'DIVX'), 25, dimension)\n",
    "for i in range(len(labeledImages)):\n",
    "    out.write(labeledImages[i])\n",
    "out.release()\n",
    "print('Predicted Video ' + str(videoNr) + ' created')"
   ]
  }
 ],
 "metadata": {
  "kernelspec": {
   "display_name": "Python 3 (ipykernel)",
   "language": "python",
   "name": "python3"
  },
  "language_info": {
   "codemirror_mode": {
    "name": "ipython",
    "version": 3
   },
   "file_extension": ".py",
   "mimetype": "text/x-python",
   "name": "python",
   "nbconvert_exporter": "python",
   "pygments_lexer": "ipython3",
   "version": "3.7.11"
  }
 },
 "nbformat": 4,
 "nbformat_minor": 5
}
